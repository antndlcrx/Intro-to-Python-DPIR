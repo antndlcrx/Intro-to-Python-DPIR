{
  "nbformat": 4,
  "nbformat_minor": 0,
  "metadata": {
    "colab": {
      "provenance": [],
      "collapsed_sections": [
        "3mQOW6lq1zXJ",
        "5LspUwIa137L"
      ],
      "toc_visible": true,
      "authorship_tag": "ABX9TyMyEWue2kDtcBbDF4UPAdL9",
      "include_colab_link": true
    },
    "kernelspec": {
      "name": "python3",
      "display_name": "Python 3"
    },
    "language_info": {
      "name": "python"
    }
  },
  "cells": [
    {
      "cell_type": "markdown",
      "metadata": {
        "id": "view-in-github",
        "colab_type": "text"
      },
      "source": [
        "<a href=\"https://colab.research.google.com/github/antndlcrx/Intro-to-Python-DPIR/blob/main/W2.ipynb\" target=\"_parent\"><img src=\"https://colab.research.google.com/assets/colab-badge.svg\" alt=\"Open In Colab\"/></a>"
      ]
    },
    {
      "cell_type": "markdown",
      "source": [
        "<img src=\"https://cdn.githubraw.com/antndlcrx/Intro-to-Python-DPIR/main/images/logo_dpir.png?raw=true:,  width=35\" alt=\"My Image\" width=175>  \n",
        "\n",
        "# **Getting Familiar with NumPy**\n",
        "\n",
        " <img src=\"https://cdn.githubraw.com/antndlcrx/Intro-to-Python-DPIR/main/images/W2/numpy_logo.png?raw=true:,  width=25\" alt=\"My Image\" width=175>"
      ],
      "metadata": {
        "id": "EaM4xnQr2ssT"
      }
    },
    {
      "cell_type": "markdown",
      "source": [
        "NumPy (Numerical Python) is an open-source library that is updated frequently and very well documented. For your reference, see [NumPy Documentation and Tutorials](https://numpy.org/doc/stable/).\n",
        "\n",
        "## **1**.&nbsp; **Why do we need NumPy?**\n",
        "\n",
        "When working with large datasets in Python, performance matters. Standard Python data containers - lists are flexible but can be slow for complex numerical computations.\n",
        "\n",
        "NumPy brings a different data container - `ndarray` that is tailor-made for numerical computations. Through `ndarray`, NumPy greatly improves computation speed, reduces memory consumption, and offers syntax for performing a variety of data processing and computation operations.\n",
        "\n",
        "Many scientific computing libraries (Pandas, Matplotlib, Scikit-Learn) are built on NumPy. Learning it opens doors to data science, machine learning, and scientific computing.\n",
        "\n",
        "\n",
        "\n",
        "\n",
        "\n",
        "### **What makes NumPy special?**\n",
        "\n",
        "Remember that Python is dynamically typed. That means, when creating variables you do not have to explicitly declare whether you are creating an integer or a string, python determines this for you.\n",
        "\n",
        "Python's dynamic typing is great for readability but comes with a performance cost. Each element carries extra information about its type and reference, which adds overhead. In large datasets, this becomes a major problem: overhead requires more memory to process data, and computations turn slower because of extra operations (type-checking) that need to be performed.\n",
        "\n",
        "NumPy allows to store information in fixed-type arrays that do not store all additional information that python objects have. This makes **numpy arrays much more efficient in data storage and manipulation, at cost of flexibility**. NumPy arrays are statically typed.\n",
        "\n",
        "\n",
        "\n",
        "\n",
        "\n"
      ],
      "metadata": {
        "id": "oU26FDEG3J35"
      }
    },
    {
      "cell_type": "code",
      "execution_count": 1,
      "metadata": {
        "id": "IYo7-IQNOUtQ"
      },
      "outputs": [],
      "source": [
        "import numpy as np # \"np\" is the standard alias for numpy"
      ]
    },
    {
      "cell_type": "code",
      "source": [
        "#@title Difference between python list and an np ndarray\n",
        "\n",
        "example_list = list(range(1_000_000))\n",
        "\n",
        "example_array = np.arange(1_000_000)\n",
        "\n",
        "# mutiply each element by 2\n",
        "%timeit example_list_multipled = [e * 2 for e in example_list]\n",
        "%timeit example_array_multiplied = example_array * 2"
      ],
      "metadata": {
        "colab": {
          "base_uri": "https://localhost:8080/"
        },
        "id": "UWsSnPafAvRK",
        "outputId": "86193a6e-6cce-416c-a2d0-5b7a6771b37e"
      },
      "execution_count": 7,
      "outputs": [
        {
          "output_type": "stream",
          "name": "stdout",
          "text": [
            "46.4 ms ± 4.13 ms per loop (mean ± std. dev. of 7 runs, 10 loops each)\n",
            "844 µs ± 100 µs per loop (mean ± std. dev. of 7 runs, 1000 loops each)\n"
          ]
        }
      ]
    },
    {
      "cell_type": "markdown",
      "source": [
        "## **2**.&nbsp; **ndarray: the core NumPy data structure**\n",
        "\n",
        "> **An array is a structure for storing and retrieving data.** You can imagine an array as if it were a grid in space, with each cell storing one element of the data.\n",
        "\n",
        "Has following attributes:\n",
        "- `ndim`: number of dimensions.\n",
        "- `shape`: number of elements across each dimension.\n",
        "- `size`: total number of attributes.\n",
        "- `dtype`: data type of all elements in array.\n",
        "\n"
      ],
      "metadata": {
        "id": "3zZ87W0IS71C"
      }
    },
    {
      "cell_type": "markdown",
      "source": [
        "### **Creating arrays**"
      ],
      "metadata": {
        "id": "A_PUOf0JfD3V"
      }
    },
    {
      "cell_type": "code",
      "source": [
        "# from lists\n",
        "my_list = [1, 2, 3]\n",
        "my_arr = np.array(my_list)\n",
        "my_arr"
      ],
      "metadata": {
        "colab": {
          "base_uri": "https://localhost:8080/"
        },
        "id": "MnS9e4s-d6FI",
        "outputId": "1e3452f5-75dc-46fd-aeaa-0f40612dd45d"
      },
      "execution_count": 11,
      "outputs": [
        {
          "output_type": "execute_result",
          "data": {
            "text/plain": [
              "array([1, 2, 3])"
            ]
          },
          "metadata": {},
          "execution_count": 11
        }
      ]
    },
    {
      "cell_type": "code",
      "source": [
        "# from np.arange()\n",
        "my_arr2 = np.arange(4) # similar to python list: my_list = list(range(4))\n",
        "my_arr2"
      ],
      "metadata": {
        "colab": {
          "base_uri": "https://localhost:8080/"
        },
        "id": "k2IT1dpkeBdG",
        "outputId": "49c600ca-afd6-464c-c8a0-8a1f42669216"
      },
      "execution_count": null,
      "outputs": [
        {
          "output_type": "execute_result",
          "data": {
            "text/plain": [
              "array([0, 1, 2, 3])"
            ]
          },
          "metadata": {},
          "execution_count": 44
        }
      ]
    },
    {
      "cell_type": "code",
      "source": [
        "# fixed value arrays: zeros\n",
        "zeros = np.zeros(5)\n",
        "zeros"
      ],
      "metadata": {
        "colab": {
          "base_uri": "https://localhost:8080/"
        },
        "id": "2ZxwszdNeWCm",
        "outputId": "e754b40e-ef07-43af-d650-ce90e2034f54"
      },
      "execution_count": 19,
      "outputs": [
        {
          "output_type": "execute_result",
          "data": {
            "text/plain": [
              "array([[0., 0.],\n",
              "       [0., 0.],\n",
              "       [0., 0.],\n",
              "       [0., 0.],\n",
              "       [0., 0.]])"
            ]
          },
          "metadata": {},
          "execution_count": 19
        }
      ]
    },
    {
      "cell_type": "code",
      "source": [
        "# fixed value arrays: ones\n",
        "ones = np.ones((3, 3, 3), dtype=np.int16) # dtype=np.int16 is optional arg specifying your desired data type. Default float64\n",
        "ones"
      ],
      "metadata": {
        "colab": {
          "base_uri": "https://localhost:8080/"
        },
        "id": "GwO9ucbLeeKt",
        "outputId": "4441192f-be4c-4249-daad-141850c97896"
      },
      "execution_count": 20,
      "outputs": [
        {
          "output_type": "execute_result",
          "data": {
            "text/plain": [
              "array([[[1, 1, 1],\n",
              "        [1, 1, 1],\n",
              "        [1, 1, 1]],\n",
              "\n",
              "       [[1, 1, 1],\n",
              "        [1, 1, 1],\n",
              "        [1, 1, 1]],\n",
              "\n",
              "       [[1, 1, 1],\n",
              "        [1, 1, 1],\n",
              "        [1, 1, 1]]], dtype=int16)"
            ]
          },
          "metadata": {},
          "execution_count": 20
        }
      ]
    },
    {
      "cell_type": "code",
      "source": [
        "# fixed value arrays: custom value\n",
        "arr_custom = np.full((2), 7.645)\n",
        "arr_custom"
      ],
      "metadata": {
        "colab": {
          "base_uri": "https://localhost:8080/"
        },
        "id": "IRLl678me0AJ",
        "outputId": "a6590053-6a7d-40bb-f88c-c42268299409"
      },
      "execution_count": 23,
      "outputs": [
        {
          "output_type": "execute_result",
          "data": {
            "text/plain": [
              "array([7.645, 7.645])"
            ]
          },
          "metadata": {},
          "execution_count": 23
        }
      ]
    },
    {
      "cell_type": "code",
      "source": [
        "# multi dimensional arrays\n",
        "zeros2d = np.zeros((2, 5)) # creates 2 by 5 array of zeroes\n",
        "zeros2d"
      ],
      "metadata": {
        "colab": {
          "base_uri": "https://localhost:8080/"
        },
        "id": "0wztga21fJ36",
        "outputId": "903088b5-4f4e-49e9-9bd9-951a18a07b50"
      },
      "execution_count": null,
      "outputs": [
        {
          "output_type": "execute_result",
          "data": {
            "text/plain": [
              "array([[0., 0., 0., 0., 0.],\n",
              "       [0., 0., 0., 0., 0.]])"
            ]
          },
          "metadata": {},
          "execution_count": 49
        }
      ]
    },
    {
      "cell_type": "code",
      "source": [
        "arr_custom_nd = np.full((2, 3, 4), 7) # creates a 2 by 3 by 4 array of 7\n",
        "arr_custom_nd"
      ],
      "metadata": {
        "colab": {
          "base_uri": "https://localhost:8080/"
        },
        "id": "BC3HgNePfVJ7",
        "outputId": "2c3bad24-7549-42a2-ebf9-6cf4636b9060"
      },
      "execution_count": null,
      "outputs": [
        {
          "output_type": "execute_result",
          "data": {
            "text/plain": [
              "array([[[7, 7, 7, 7],\n",
              "        [7, 7, 7, 7],\n",
              "        [7, 7, 7, 7]],\n",
              "\n",
              "       [[7, 7, 7, 7],\n",
              "        [7, 7, 7, 7],\n",
              "        [7, 7, 7, 7]]])"
            ]
          },
          "metadata": {},
          "execution_count": 50
        }
      ]
    },
    {
      "cell_type": "markdown",
      "source": [
        "#### Excersises"
      ],
      "metadata": {
        "id": "DzA3R0yj4fHy"
      }
    },
    {
      "cell_type": "code",
      "source": [
        "\n",
        "# 1. create an array storing numbers from 0 to 98, skipping every odd number\n",
        "\n",
        "# 2. create an array storing numbers from 1 to 99, skipping every even number\n",
        "\n",
        "# 3. create a 2d array storing eight zeroes\n",
        "\n",
        "# 4. create a 3d array storing nine ones\n",
        "\n",
        "## Hint: you can use np.info() to check documentation of any numpy function\n",
        "\n",
        "# your code:\n"
      ],
      "metadata": {
        "id": "o9Vt2XRaTKaa"
      },
      "execution_count": null,
      "outputs": []
    },
    {
      "cell_type": "markdown",
      "source": [
        "### **Manipulating arrays I: indexing and slicing**"
      ],
      "metadata": {
        "id": "T0CYhJaAUbc4"
      }
    },
    {
      "cell_type": "markdown",
      "source": [
        "#### **Indexing**\n",
        "\n",
        "To select an element from an array, use square brakets to specify the desired element by refering to its index (counting from zero).\n",
        "\n",
        "```\n",
        "array[index]\n",
        "```\n",
        "\n",
        "1d-arrays can be indexed similar to python lists.\n"
      ],
      "metadata": {
        "id": "c-U4aSAVQsXg"
      }
    },
    {
      "cell_type": "code",
      "source": [
        "arr = np.array([1, 3, 5, 2, 6])\n",
        "arr[0] # get first element of the array"
      ],
      "metadata": {
        "colab": {
          "base_uri": "https://localhost:8080/"
        },
        "id": "UpHtYCp1TJ-2",
        "outputId": "a3aa3ab5-9f6f-4e1b-e73e-c934eb8372f7"
      },
      "execution_count": 30,
      "outputs": [
        {
          "output_type": "execute_result",
          "data": {
            "text/plain": [
              "1"
            ]
          },
          "metadata": {},
          "execution_count": 30
        }
      ]
    },
    {
      "cell_type": "code",
      "source": [
        "arr[-1] # get last element"
      ],
      "metadata": {
        "colab": {
          "base_uri": "https://localhost:8080/"
        },
        "id": "YhQe_PK-T0gh",
        "outputId": "6f82d323-f9ef-48bf-c9f1-05630ede2648"
      },
      "execution_count": 31,
      "outputs": [
        {
          "output_type": "execute_result",
          "data": {
            "text/plain": [
              "6"
            ]
          },
          "metadata": {},
          "execution_count": 31
        }
      ]
    },
    {
      "cell_type": "markdown",
      "source": [
        "Get an element from a multidimensional array, provide multiple inceces, one for each dimension of the array. For a matrix (2d array), provide a `(row, column)` pair of indexes.\n",
        "\n",
        "\n",
        "\n",
        "```\n",
        "array[row, column]\n",
        "```\n",
        "\n",
        "\n",
        "For arrays with larger number of dimensions, think of column index as the last one, and row index second to last.\n",
        "\n",
        "```\n",
        "array[:, :, row, column] # for a 4d array\n",
        "```"
      ],
      "metadata": {
        "id": "NPuw5C2nT8le"
      }
    },
    {
      "cell_type": "code",
      "source": [
        "arr_2d = np.arange(27).reshape((9,3))\n",
        "arr_2d"
      ],
      "metadata": {
        "colab": {
          "base_uri": "https://localhost:8080/"
        },
        "id": "gnEh2lZdUJbS",
        "outputId": "81ffab1e-9afd-4e0a-9e9f-63bedcff6adc"
      },
      "execution_count": 32,
      "outputs": [
        {
          "output_type": "execute_result",
          "data": {
            "text/plain": [
              "array([[ 0,  1,  2],\n",
              "       [ 3,  4,  5],\n",
              "       [ 6,  7,  8],\n",
              "       [ 9, 10, 11],\n",
              "       [12, 13, 14],\n",
              "       [15, 16, 17],\n",
              "       [18, 19, 20],\n",
              "       [21, 22, 23],\n",
              "       [24, 25, 26]])"
            ]
          },
          "metadata": {},
          "execution_count": 32
        }
      ]
    },
    {
      "cell_type": "code",
      "source": [
        "arr_2d[0, 0] # get first row first column value"
      ],
      "metadata": {
        "colab": {
          "base_uri": "https://localhost:8080/"
        },
        "id": "xXr8LWB0Ucq-",
        "outputId": "11a4d29c-152d-4124-c33a-b6fa47c9308a"
      },
      "execution_count": null,
      "outputs": [
        {
          "output_type": "execute_result",
          "data": {
            "text/plain": [
              "0"
            ]
          },
          "metadata": {},
          "execution_count": 70
        }
      ]
    },
    {
      "cell_type": "code",
      "source": [
        "arr_2d[0, -1] # last column of first row"
      ],
      "metadata": {
        "colab": {
          "base_uri": "https://localhost:8080/"
        },
        "id": "DNnKNeLgU_iC",
        "outputId": "d8dfe668-3212-4945-877c-ffd864626913"
      },
      "execution_count": null,
      "outputs": [
        {
          "output_type": "execute_result",
          "data": {
            "text/plain": [
              "2"
            ]
          },
          "metadata": {},
          "execution_count": 73
        }
      ]
    },
    {
      "cell_type": "code",
      "source": [
        "arr_2d[1, ] # all of second row"
      ],
      "metadata": {
        "colab": {
          "base_uri": "https://localhost:8080/"
        },
        "id": "M0EQfTEIVGSs",
        "outputId": "567c8024-4f8e-4b51-978b-edf78cee90d6"
      },
      "execution_count": 33,
      "outputs": [
        {
          "output_type": "execute_result",
          "data": {
            "text/plain": [
              "array([3, 4, 5])"
            ]
          },
          "metadata": {},
          "execution_count": 33
        }
      ]
    },
    {
      "cell_type": "code",
      "source": [
        "arr_3d = np.arange(27).reshape((3,3,3))\n",
        "arr_3d"
      ],
      "metadata": {
        "colab": {
          "base_uri": "https://localhost:8080/"
        },
        "id": "wk-nclTRV1-L",
        "outputId": "4bec61d0-0d3a-49aa-89a4-c55e6ee60086"
      },
      "execution_count": null,
      "outputs": [
        {
          "output_type": "execute_result",
          "data": {
            "text/plain": [
              "array([[[ 0,  1,  2],\n",
              "        [ 3,  4,  5],\n",
              "        [ 6,  7,  8]],\n",
              "\n",
              "       [[ 9, 10, 11],\n",
              "        [12, 13, 14],\n",
              "        [15, 16, 17]],\n",
              "\n",
              "       [[18, 19, 20],\n",
              "        [21, 22, 23],\n",
              "        [24, 25, 26]]])"
            ]
          },
          "metadata": {},
          "execution_count": 80
        }
      ]
    },
    {
      "cell_type": "code",
      "source": [
        "arr_3d[1] # get second element of first dimension (matrix)"
      ],
      "metadata": {
        "colab": {
          "base_uri": "https://localhost:8080/"
        },
        "id": "PERAErt0-b-e",
        "outputId": "8105673a-4466-4116-92c8-ef77c6fab538"
      },
      "execution_count": null,
      "outputs": [
        {
          "output_type": "execute_result",
          "data": {
            "text/plain": [
              "array([[ 9, 10, 11],\n",
              "       [12, 13, 14],\n",
              "       [15, 16, 17]])"
            ]
          },
          "metadata": {},
          "execution_count": 17
        }
      ]
    },
    {
      "cell_type": "code",
      "source": [
        "arr_3d[1, 1] # get second matrix, second row"
      ],
      "metadata": {
        "colab": {
          "base_uri": "https://localhost:8080/"
        },
        "id": "j75X7knx-eTw",
        "outputId": "a5ca1ddd-b8de-47a0-b522-2ceb110c48ce"
      },
      "execution_count": null,
      "outputs": [
        {
          "output_type": "execute_result",
          "data": {
            "text/plain": [
              "array([12, 13, 14])"
            ]
          },
          "metadata": {},
          "execution_count": 18
        }
      ]
    },
    {
      "cell_type": "code",
      "source": [
        "arr_3d[:, -1, -1] # get second matrix, second row, third column value"
      ],
      "metadata": {
        "colab": {
          "base_uri": "https://localhost:8080/"
        },
        "id": "L2QExKlmWFHC",
        "outputId": "dbacb8dc-6fe7-4f0f-cde0-069ee249fab7"
      },
      "execution_count": null,
      "outputs": [
        {
          "output_type": "execute_result",
          "data": {
            "text/plain": [
              "array([ 8, 17, 26])"
            ]
          },
          "metadata": {},
          "execution_count": 87
        }
      ]
    },
    {
      "cell_type": "markdown",
      "source": [
        "#### **Slicing**\n",
        "\n",
        "To get multiple elements or subarrays, you also use square brakets and the slicing notation.\n",
        "\n",
        "\n",
        "```\n",
        "array[start:stop:step]\n",
        "```\n",
        "\n",
        "The default values are `start=0`, `stop=<size of dimension>`, `step=1`. If you pass a negative value to `step`, the defaults of `start` and `stop` are swapped. This is a good way to reverse the array.\n",
        "\n",
        "> NumPy silicing creates a **view** of a sliced array.\n",
        "\n"
      ],
      "metadata": {
        "id": "3SgOt8OEaA3J"
      }
    },
    {
      "cell_type": "code",
      "source": [
        "arr = np.array([1, 3, 5, 2, 6, 7])\n",
        "arr[:] # get the first three elements"
      ],
      "metadata": {
        "colab": {
          "base_uri": "https://localhost:8080/"
        },
        "id": "4ldji6Q159qb",
        "outputId": "2086d9bc-9744-40af-a8ea-207689bd670a"
      },
      "execution_count": 34,
      "outputs": [
        {
          "output_type": "execute_result",
          "data": {
            "text/plain": [
              "array([1, 3, 5])"
            ]
          },
          "metadata": {},
          "execution_count": 34
        }
      ]
    },
    {
      "cell_type": "code",
      "source": [
        "arr[-3:] # get the last three elements"
      ],
      "metadata": {
        "colab": {
          "base_uri": "https://localhost:8080/"
        },
        "id": "cG3z1U516PpN",
        "outputId": "6ab5987a-655b-4912-e3ec-57ec0b2d8b4d"
      },
      "execution_count": null,
      "outputs": [
        {
          "output_type": "execute_result",
          "data": {
            "text/plain": [
              "array([2, 6, 7])"
            ]
          },
          "metadata": {},
          "execution_count": 46
        }
      ]
    },
    {
      "cell_type": "code",
      "source": [
        "arr[::2] # get every second element starting from idx 0"
      ],
      "metadata": {
        "colab": {
          "base_uri": "https://localhost:8080/"
        },
        "id": "Hkmtr5g06bzO",
        "outputId": "00a7a352-30bf-4476-ef4b-d9ae1de7659b"
      },
      "execution_count": 35,
      "outputs": [
        {
          "output_type": "execute_result",
          "data": {
            "text/plain": [
              "array([1, 5, 6])"
            ]
          },
          "metadata": {},
          "execution_count": 35
        }
      ]
    },
    {
      "cell_type": "code",
      "source": [
        "arr[::-1] # reverse an array"
      ],
      "metadata": {
        "colab": {
          "base_uri": "https://localhost:8080/"
        },
        "id": "zqNr7_-fYOtW",
        "outputId": "3cf17445-fdb1-4348-e8d8-3a0ab00d1029"
      },
      "execution_count": null,
      "outputs": [
        {
          "output_type": "execute_result",
          "data": {
            "text/plain": [
              "array([7, 6, 2, 5, 3, 1])"
            ]
          },
          "metadata": {},
          "execution_count": 93
        }
      ]
    },
    {
      "cell_type": "code",
      "source": [
        "arr[5::-2] # every second element from idx 5, reversed"
      ],
      "metadata": {
        "colab": {
          "base_uri": "https://localhost:8080/"
        },
        "id": "b7HGfHeF6n9b",
        "outputId": "9f94b241-4f2b-4040-ea71-a233cba02386"
      },
      "execution_count": null,
      "outputs": [
        {
          "output_type": "execute_result",
          "data": {
            "text/plain": [
              "array([7, 2, 3])"
            ]
          },
          "metadata": {},
          "execution_count": 97
        }
      ]
    },
    {
      "cell_type": "markdown",
      "source": [
        "**nd-arrays**"
      ],
      "metadata": {
        "id": "p9B4dZwx7SR8"
      }
    },
    {
      "cell_type": "code",
      "source": [
        "arr_2d = np.arange(27).reshape((3, 9))\n",
        "arr_2d"
      ],
      "metadata": {
        "colab": {
          "base_uri": "https://localhost:8080/"
        },
        "id": "Y0crNPav7hYE",
        "outputId": "452721bc-cf3f-4042-9e7f-e249dd8c8aad"
      },
      "execution_count": 41,
      "outputs": [
        {
          "output_type": "execute_result",
          "data": {
            "text/plain": [
              "array([[ 0,  1,  2,  3,  4,  5,  6,  7,  8],\n",
              "       [ 9, 10, 11, 12, 13, 14, 15, 16, 17],\n",
              "       [18, 19, 20, 21, 22, 23, 24, 25, 26]])"
            ]
          },
          "metadata": {},
          "execution_count": 41
        }
      ]
    },
    {
      "cell_type": "code",
      "source": [
        "arr_2d[1, :4] # second row, all columns up to idx 4"
      ],
      "metadata": {
        "colab": {
          "base_uri": "https://localhost:8080/"
        },
        "id": "92MALCJR_ri_",
        "outputId": "d3954549-c672-4aba-e1ad-844768c115ab"
      },
      "execution_count": 42,
      "outputs": [
        {
          "output_type": "execute_result",
          "data": {
            "text/plain": [
              "array([ 9, 10, 11, 12])"
            ]
          },
          "metadata": {},
          "execution_count": 42
        }
      ]
    },
    {
      "cell_type": "code",
      "source": [
        "arr_2d[1, ::2] # second row every second column starting from the first"
      ],
      "metadata": {
        "colab": {
          "base_uri": "https://localhost:8080/"
        },
        "id": "z22GgsPI79p_",
        "outputId": "1084c4be-7b43-416e-f9f3-69b70ee33b4c"
      },
      "execution_count": null,
      "outputs": [
        {
          "output_type": "execute_result",
          "data": {
            "text/plain": [
              "array([ 9, 11, 13, 15, 17])"
            ]
          },
          "metadata": {},
          "execution_count": 100
        }
      ]
    },
    {
      "cell_type": "code",
      "source": [
        "arr_2d[::2, ::2] # every second row starting from first, every second column"
      ],
      "metadata": {
        "colab": {
          "base_uri": "https://localhost:8080/"
        },
        "id": "fkVZ9OlF_HRa",
        "outputId": "04a40ff5-764e-4ade-90cf-9bb15c2c0b68"
      },
      "execution_count": null,
      "outputs": [
        {
          "output_type": "execute_result",
          "data": {
            "text/plain": [
              "array([[ 0,  2,  4,  6,  8],\n",
              "       [18, 20, 22, 24, 26]])"
            ]
          },
          "metadata": {},
          "execution_count": 101
        }
      ]
    },
    {
      "cell_type": "code",
      "source": [
        "arr_2d[::-1, ] # all rows reversed"
      ],
      "metadata": {
        "colab": {
          "base_uri": "https://localhost:8080/"
        },
        "id": "ovFSwzmYAHfA",
        "outputId": "81d1f72b-70d3-4ba1-f41f-7f2c12bbeaf1"
      },
      "execution_count": null,
      "outputs": [
        {
          "output_type": "execute_result",
          "data": {
            "text/plain": [
              "array([[18, 19, 20, 21, 22, 23, 24, 25, 26],\n",
              "       [ 9, 10, 11, 12, 13, 14, 15, 16, 17],\n",
              "       [ 0,  1,  2,  3,  4,  5,  6,  7,  8]])"
            ]
          },
          "metadata": {},
          "execution_count": 102
        }
      ]
    },
    {
      "cell_type": "code",
      "source": [
        "arr_2d[::-1, ::-1] # all rows and columns reversed"
      ],
      "metadata": {
        "colab": {
          "base_uri": "https://localhost:8080/"
        },
        "id": "Ee1L8TR4AS6w",
        "outputId": "f004c45f-35b2-430c-d4ce-f545dffea6b5"
      },
      "execution_count": null,
      "outputs": [
        {
          "output_type": "execute_result",
          "data": {
            "text/plain": [
              "array([[26, 25, 24, 23, 22, 21, 20, 19, 18],\n",
              "       [17, 16, 15, 14, 13, 12, 11, 10,  9],\n",
              "       [ 8,  7,  6,  5,  4,  3,  2,  1,  0]])"
            ]
          },
          "metadata": {},
          "execution_count": 103
        }
      ]
    },
    {
      "cell_type": "code",
      "source": [
        "second_row = arr_2d[1]\n",
        "second_row # is a view of arr_2d"
      ],
      "metadata": {
        "colab": {
          "base_uri": "https://localhost:8080/"
        },
        "id": "99uxz4k1EVNG",
        "outputId": "bbecbd46-bd1d-42f1-dd32-7baca15e7aaf"
      },
      "execution_count": null,
      "outputs": [
        {
          "output_type": "execute_result",
          "data": {
            "text/plain": [
              "array([ 9, 10, 11, 12, 13, 14, 15, 16, 17])"
            ]
          },
          "metadata": {},
          "execution_count": 104
        }
      ]
    },
    {
      "cell_type": "code",
      "source": [
        "second_row[:2] = 999 # assign new values\n",
        "second_row"
      ],
      "metadata": {
        "colab": {
          "base_uri": "https://localhost:8080/"
        },
        "id": "fZPCCXUtEfAu",
        "outputId": "133bc06e-1a6b-4a85-f886-a2da7822cb68"
      },
      "execution_count": null,
      "outputs": [
        {
          "output_type": "execute_result",
          "data": {
            "text/plain": [
              "array([999, 999,  11,  12,  13,  14,  15,  16,  17])"
            ]
          },
          "metadata": {},
          "execution_count": 105
        }
      ]
    },
    {
      "cell_type": "code",
      "source": [
        "arr_2d"
      ],
      "metadata": {
        "colab": {
          "base_uri": "https://localhost:8080/"
        },
        "id": "_Dto8tJKEmsA",
        "outputId": "ab1c7606-3e52-4f8d-b04b-327b8c39b4ef"
      },
      "execution_count": null,
      "outputs": [
        {
          "output_type": "execute_result",
          "data": {
            "text/plain": [
              "array([[  0,   1,   2,   3,   4,   5,   6,   7,   8],\n",
              "       [999, 999,  11,  12,  13,  14,  15,  16,  17],\n",
              "       [ 18,  19,  20,  21,  22,  23,  24,  25,  26]])"
            ]
          },
          "metadata": {},
          "execution_count": 107
        }
      ]
    },
    {
      "cell_type": "code",
      "source": [
        "arr_3d = np.arange(27).reshape((3,3,3))\n",
        "arr_3d"
      ],
      "metadata": {
        "colab": {
          "base_uri": "https://localhost:8080/"
        },
        "id": "LvBVBNft7Wrg",
        "outputId": "f32151e4-9a68-4517-9cb6-4cbcdbf2cf10"
      },
      "execution_count": 43,
      "outputs": [
        {
          "output_type": "execute_result",
          "data": {
            "text/plain": [
              "array([[[ 0,  1,  2],\n",
              "        [ 3,  4,  5],\n",
              "        [ 6,  7,  8]],\n",
              "\n",
              "       [[ 9, 10, 11],\n",
              "        [12, 13, 14],\n",
              "        [15, 16, 17]],\n",
              "\n",
              "       [[18, 19, 20],\n",
              "        [21, 22, 23],\n",
              "        [24, 25, 26]]])"
            ]
          },
          "metadata": {},
          "execution_count": 43
        }
      ]
    },
    {
      "cell_type": "code",
      "source": [
        "arr_3d[1, 1, ::2] # second matrix, second row, every second column"
      ],
      "metadata": {
        "colab": {
          "base_uri": "https://localhost:8080/"
        },
        "id": "3ZxgMPX--Avw",
        "outputId": "2fec8a4c-1278-4b66-917c-ce72e66d589b"
      },
      "execution_count": 44,
      "outputs": [
        {
          "output_type": "execute_result",
          "data": {
            "text/plain": [
              "array([12, 14])"
            ]
          },
          "metadata": {},
          "execution_count": 44
        }
      ]
    },
    {
      "cell_type": "markdown",
      "source": [
        "#### Excersies"
      ],
      "metadata": {
        "id": "0m9EqkUM4al5"
      }
    },
    {
      "cell_type": "code",
      "source": [
        "# 1: get the third column across the entirery of arr_3d\n",
        "\n",
        "# 2: get the entire second row of the third matrix of arr_3d\n",
        "\n",
        "# 3: get the first matrix, last row, middle column of arr_3d\n",
        "\n",
        "# 4: extract every other column from the second matrix of arr_3d\n",
        "\n",
        "# 5: get the diagonal elements of the first matrix in arr_3d: hint: use np.diag()\n",
        "\n",
        "# 6: get the elements just below diagonal of the second matrix in arr_3d\n"
      ],
      "metadata": {
        "id": "7XPfuTqJYtdq"
      },
      "execution_count": null,
      "outputs": []
    },
    {
      "cell_type": "markdown",
      "source": [
        "### **Manipulating Arrays II: advanced indexing, boolean indexing**\n",
        "\n",
        "\n",
        "\n"
      ],
      "metadata": {
        "id": "7vQHFsm_6bS5"
      }
    },
    {
      "cell_type": "markdown",
      "source": [
        "#### **Advanced Indexing**\n",
        "\n",
        "“Advanced” indexing, also called “fancy” indexing, includes all cases where arrays are indexed by other arrays. **Advanced indexing always makes a copy, not a view of existing data array.**\n",
        "\n",
        "Advanced indexing allows to quickly access and modify subsets of array's values."
      ],
      "metadata": {
        "id": "pAmlQyhjXnY-"
      }
    },
    {
      "cell_type": "code",
      "source": [
        "arr = np.arange(15)\n",
        "arr"
      ],
      "metadata": {
        "colab": {
          "base_uri": "https://localhost:8080/"
        },
        "id": "Trh0NYJTNvyF",
        "outputId": "b968233f-e689-461b-8185-4878f9c6dd7c"
      },
      "execution_count": 60,
      "outputs": [
        {
          "output_type": "execute_result",
          "data": {
            "text/plain": [
              "array([ 0,  1,  2,  3,  4,  5,  6,  7,  8,  9, 10, 11, 12, 13, 14])"
            ]
          },
          "metadata": {},
          "execution_count": 60
        }
      ]
    },
    {
      "cell_type": "code",
      "source": [
        "idx = [1, -1, 4]\n",
        "arr[[idx]]"
      ],
      "metadata": {
        "colab": {
          "base_uri": "https://localhost:8080/"
        },
        "id": "hNGgiIEENvhV",
        "outputId": "d2f86d54-aa52-4de1-8567-1c1935bb3aa3"
      },
      "execution_count": 61,
      "outputs": [
        {
          "output_type": "execute_result",
          "data": {
            "text/plain": [
              "array([[ 1, 14,  4]])"
            ]
          },
          "metadata": {},
          "execution_count": 61
        }
      ]
    },
    {
      "cell_type": "code",
      "source": [
        "arr_2d = np.arange(15).reshape(5,3)\n",
        "arr_2d"
      ],
      "metadata": {
        "colab": {
          "base_uri": "https://localhost:8080/"
        },
        "id": "mmq5EgXIOaYl",
        "outputId": "5552b611-5d16-4164-fa96-536238c6ed95"
      },
      "execution_count": 62,
      "outputs": [
        {
          "output_type": "execute_result",
          "data": {
            "text/plain": [
              "array([[ 0,  1,  2],\n",
              "       [ 3,  4,  5],\n",
              "       [ 6,  7,  8],\n",
              "       [ 9, 10, 11],\n",
              "       [12, 13, 14]])"
            ]
          },
          "metadata": {},
          "execution_count": 62
        }
      ]
    },
    {
      "cell_type": "code",
      "source": [
        "idx = [1,2]\n",
        "\n",
        "arr_2d[idx] # select indexed rows"
      ],
      "metadata": {
        "colab": {
          "base_uri": "https://localhost:8080/"
        },
        "id": "cZMUFk6HOgVz",
        "outputId": "7d94950e-304e-4140-867b-bbc2a8d4246e"
      },
      "execution_count": 76,
      "outputs": [
        {
          "output_type": "execute_result",
          "data": {
            "text/plain": [
              "array([[3, 4, 5],\n",
              "       [6, 7, 8]])"
            ]
          },
          "metadata": {},
          "execution_count": 76
        }
      ]
    },
    {
      "cell_type": "code",
      "source": [
        "arr_2d[:, idx] # select indexed columns"
      ],
      "metadata": {
        "colab": {
          "base_uri": "https://localhost:8080/"
        },
        "id": "RdWY8UkbOq4v",
        "outputId": "44f7d9d8-5e58-49d5-bfbc-537e5a4e0737"
      },
      "execution_count": 77,
      "outputs": [
        {
          "output_type": "execute_result",
          "data": {
            "text/plain": [
              "array([[ 1,  2],\n",
              "       [ 4,  5],\n",
              "       [ 7,  8],\n",
              "       [10, 11],\n",
              "       [13, 14]])"
            ]
          },
          "metadata": {},
          "execution_count": 77
        }
      ]
    },
    {
      "cell_type": "code",
      "source": [
        "arr_2d[:2, idx] # select indexed columns from first two rows"
      ],
      "metadata": {
        "colab": {
          "base_uri": "https://localhost:8080/"
        },
        "id": "EE3zUhhrO2C2",
        "outputId": "b65d5207-71a4-4e12-f8d5-3de127f1567f"
      },
      "execution_count": null,
      "outputs": [
        {
          "output_type": "execute_result",
          "data": {
            "text/plain": [
              "array([[1, 2],\n",
              "       [4, 5]])"
            ]
          },
          "metadata": {},
          "execution_count": 128
        }
      ]
    },
    {
      "cell_type": "code",
      "source": [
        "arr_2d[idx, idx] # select elements at coordinates [1, 1] and [2, 2]"
      ],
      "metadata": {
        "colab": {
          "base_uri": "https://localhost:8080/"
        },
        "id": "Xa6e9ZoDPgoc",
        "outputId": "6932d867-4490-4b9d-eb4c-043c5f0dbd2a"
      },
      "execution_count": 82,
      "outputs": [
        {
          "output_type": "execute_result",
          "data": {
            "text/plain": [
              "array([4, 8])"
            ]
          },
          "metadata": {},
          "execution_count": 82
        }
      ]
    },
    {
      "cell_type": "code",
      "source": [
        "rows = [0, 1]\n",
        "cols = [1, 2]\n",
        "\n",
        "arr_2d[rows, cols]"
      ],
      "metadata": {
        "colab": {
          "base_uri": "https://localhost:8080/"
        },
        "id": "RJH0SREgd_oj",
        "outputId": "9bda5d82-6f14-4f81-deab-29f5abda1c64"
      },
      "execution_count": 85,
      "outputs": [
        {
          "output_type": "execute_result",
          "data": {
            "text/plain": [
              "array([[1, 5]])"
            ]
          },
          "metadata": {},
          "execution_count": 85
        }
      ]
    },
    {
      "cell_type": "markdown",
      "source": [
        "#### **Boolean indexing**\n",
        "\n",
        "Boolean Indexing operators in NumPy:\n",
        "\n",
        "| Operator | Operation | Example | Description |\n",
        "|----------|-----------|---------|-------------|\n",
        "| `&` | Bitwise AND | `(arr > 5) & (arr < 10)` | Element-wise logical AND |\n",
        "| `\\|` | Bitwise OR | `(arr < 3) \\| (arr > 8)` | Element-wise logical OR |\n",
        "| `~` | Bitwise NOT | `~(arr > 5)` | Invert boolean mask |\n",
        "| `!=` | Not Equal | `arr != 0` | Elements not equal to value |\n",
        "| `==` | Equal | `arr == 10` | Elements equal to value |\n",
        "| `>` | Greater Than | `arr > 5` | Elements greater than value |\n",
        "| `<` | Less Than | `arr < 5` | Elements less than value |\n",
        "| `>=` | Greater or Equal | `arr >= 5` | Elements greater than or equal |\n",
        "| `<=` | Less or Equal | `arr <= 5` | Elements less than or equal |"
      ],
      "metadata": {
        "id": "GECSUFpMT_Xa"
      }
    },
    {
      "cell_type": "code",
      "source": [
        "mask = arr > 10\n",
        "arr[arr > 10]"
      ],
      "metadata": {
        "colab": {
          "base_uri": "https://localhost:8080/"
        },
        "id": "fhLwmbE3N768",
        "outputId": "3ecfd3df-fedb-4b0a-87b9-c71e667e99e7"
      },
      "execution_count": 87,
      "outputs": [
        {
          "output_type": "execute_result",
          "data": {
            "text/plain": [
              "array([False, False, False, False, False, False, False, False, False,\n",
              "       False, False,  True,  True,  True,  True])"
            ]
          },
          "metadata": {},
          "execution_count": 87
        }
      ]
    },
    {
      "cell_type": "code",
      "source": [
        "arr_2d[arr_2d > 7] = 100 # element modification\n",
        "arr_2d"
      ],
      "metadata": {
        "colab": {
          "base_uri": "https://localhost:8080/"
        },
        "id": "WW2yP5qRQExt",
        "outputId": "d273a737-7027-476d-d0a5-a768f795feb1"
      },
      "execution_count": 88,
      "outputs": [
        {
          "output_type": "execute_result",
          "data": {
            "text/plain": [
              "array([[  0,   1,   2],\n",
              "       [  3,   4,   5],\n",
              "       [  6,   7, 100],\n",
              "       [100, 100, 100],\n",
              "       [100, 100, 100]])"
            ]
          },
          "metadata": {},
          "execution_count": 88
        }
      ]
    },
    {
      "cell_type": "code",
      "source": [
        "np.random.seed(42)\n",
        "rand_arr = np.random.randint(10, size=10)\n",
        "rand_arr"
      ],
      "metadata": {
        "colab": {
          "base_uri": "https://localhost:8080/"
        },
        "id": "gg3ai-jHUJvR",
        "outputId": "5e4162f6-9da5-477c-f915-ec8a6e77ed73"
      },
      "execution_count": 91,
      "outputs": [
        {
          "output_type": "execute_result",
          "data": {
            "text/plain": [
              "array([6, 3, 7, 4, 6, 9, 2, 6, 7, 4])"
            ]
          },
          "metadata": {},
          "execution_count": 91
        }
      ]
    },
    {
      "cell_type": "code",
      "source": [
        "rand_arr[rand_arr==3] # pick up elements equal to the specified value"
      ],
      "metadata": {
        "colab": {
          "base_uri": "https://localhost:8080/"
        },
        "id": "v0Tlz5DHUid0",
        "outputId": "9edbf64c-cace-4964-abf5-2df0d1e55694"
      },
      "execution_count": 92,
      "outputs": [
        {
          "output_type": "execute_result",
          "data": {
            "text/plain": [
              "array([3])"
            ]
          },
          "metadata": {},
          "execution_count": 92
        }
      ]
    },
    {
      "cell_type": "code",
      "source": [
        "rand_arr[rand_arr!=3] # pick up elements that are not equal to the specified value"
      ],
      "metadata": {
        "colab": {
          "base_uri": "https://localhost:8080/"
        },
        "id": "YhqXbrrRUuN-",
        "outputId": "4a58e1aa-93cb-4de5-c931-1ff2a39479cd"
      },
      "execution_count": 93,
      "outputs": [
        {
          "output_type": "execute_result",
          "data": {
            "text/plain": [
              "array([6, 7, 4, 6, 9, 2, 6, 7, 4])"
            ]
          },
          "metadata": {},
          "execution_count": 93
        }
      ]
    },
    {
      "cell_type": "code",
      "source": [
        "mask = (rand_arr > 3) & (rand_arr < 7) # multiple conditions\n",
        "rand_arr[mask]"
      ],
      "metadata": {
        "colab": {
          "base_uri": "https://localhost:8080/"
        },
        "id": "CFkPKALePiGb",
        "outputId": "b75aba8b-dd3f-4e87-a7de-70e8a3ee903e"
      },
      "execution_count": 96,
      "outputs": [
        {
          "output_type": "execute_result",
          "data": {
            "text/plain": [
              "array([6, 4, 6, 6, 4])"
            ]
          },
          "metadata": {},
          "execution_count": 96
        }
      ]
    },
    {
      "cell_type": "markdown",
      "source": [
        "#### Excersies"
      ],
      "metadata": {
        "id": "bySmrc8aX1t7"
      }
    },
    {
      "cell_type": "code",
      "source": [
        "np.random.seed(42)\n",
        "rand_arr_3d = np.random.randint(15, size=81).reshape(3,3,9)\n",
        "rand_arr_3d"
      ],
      "metadata": {
        "colab": {
          "base_uri": "https://localhost:8080/"
        },
        "id": "HeKgB8YkX2_c",
        "outputId": "effebce4-4e3f-4a27-e778-b031ac930941"
      },
      "execution_count": 97,
      "outputs": [
        {
          "output_type": "execute_result",
          "data": {
            "text/plain": [
              "array([[[ 6,  3, 12, 14, 10,  7, 12,  4,  6],\n",
              "        [ 9,  2,  6, 10, 10,  7,  4,  3,  7],\n",
              "        [ 7,  2,  5,  4,  1,  7, 11, 13,  5]],\n",
              "\n",
              "       [[ 1, 11,  4,  0, 11,  9,  5, 12, 11],\n",
              "        [ 8,  0, 10, 10, 14,  9, 11, 11, 14],\n",
              "        [13, 13, 14, 13,  2, 11,  6,  3,  8]],\n",
              "\n",
              "       [[ 2,  4,  2,  6,  4,  8,  6,  1,  3],\n",
              "        [ 8, 11, 13,  1,  9,  8,  9,  4,  1],\n",
              "        [ 3, 11, 14, 11,  6, 11, 12,  7, 14]]])"
            ]
          },
          "metadata": {},
          "execution_count": 97
        }
      ]
    },
    {
      "cell_type": "code",
      "source": [
        "# 1: replace all elements in the first matrix that are greater than 8 with zero\n",
        "\n",
        "# 2: select all odd-indexed columns from the second matrix\n",
        "\n",
        "# 3: create a mask to select elements that are both greater than 2 and less than 12\n"
      ],
      "metadata": {
        "id": "I68Q-Bb2Y3tB"
      },
      "execution_count": null,
      "outputs": []
    },
    {
      "cell_type": "markdown",
      "source": [
        "## **3**.&nbsp; **Operations on Arrays**\n",
        "\n",
        "Arrays are great because they allow to express batch operations without specifying any for loops."
      ],
      "metadata": {
        "id": "_Mm624eV4P5f"
      }
    },
    {
      "cell_type": "markdown",
      "source": [
        "#### **Universal functions (ufuncs)**\n",
        "\n",
        "Fast universal functions that perform element-wise operations on data in arrays.\n",
        "\n",
        "> **Vectorisation** is a computational technique in NumPy where operations are applied simultaneously to entire arrays without explicitly writing `for` loops.\n",
        "\n",
        "\n",
        "Here is a list of ufuncs for basic arithmetic operations:\n",
        "\n",
        "| Ufunc | Operation | Example | Description |\n",
        "|-------|-----------|---------|-------------|\n",
        "| `np.add()` | Addition | `arr1 + arr2` | Element-wise addition |\n",
        "| `np.subtract()` | Subtraction | `arr1 - arr2` | Element-wise subtraction |\n",
        "| `np.multiply()` | Multiplication | `arr1 * arr2` | Element-wise multiplication |\n",
        "| `np.divide()` | Division | `arr1 / arr2` | Element-wise division |\n",
        "| `np.power()` | Exponentiation | `arr**2` | Element-wise power |\n",
        "| `np.sqrt()` | Square Root | `np.sqrt(arr)` | Element-wise square root |\n",
        "| `np.exp()` | Exponential | `np.exp(arr)` | e raised to each element |\n",
        "| `np.abs()` | Absolute Value | `np.abs(arr)` | Computes the absolute value of each element |\n",
        "\n",
        "And ones for summary statistics:\n",
        "\n",
        "| Ufunc | Operation | Example | Description |\n",
        "|-------|-----------|---------|-------------|\n",
        "| `np.mean()` | Average | `arr.mean()` | Calculates arithmetic mean |\n",
        "| `np.median()` | Median | `np.median(arr)` | Middle value of sorted array |\n",
        "| `np.std()` | Standard Deviation | `arr.std()` | Measure of data spread |\n",
        "| `np.var()` | Variance | `arr.var()` | Squared deviation from mean |\n",
        "| `np.sum()` | Total Sum | `arr.sum()` | Adds all array elements |\n",
        "| `np.min()` | Minimum | `arr.min()` | Smallest element |\n",
        "| `np.max()` | Maximum | `arr.max()` | Largest element |\n",
        "\n",
        "\n",
        "For more, see:\n",
        "- [NumPy ufuncs basics](https://numpy.org/doc/2.1/user/basics.ufuncs.html#ufuncs-basics)\n",
        "- [NumPy ufuncs](https://numpy.org/doc/2.1/reference/ufuncs.html#ufuncs)"
      ],
      "metadata": {
        "id": "4XpjRhGW-Fa6"
      }
    },
    {
      "cell_type": "code",
      "source": [
        "arr = np.arange(10)\n",
        "arr"
      ],
      "metadata": {
        "id": "l_noELzA4PhE",
        "colab": {
          "base_uri": "https://localhost:8080/"
        },
        "outputId": "5baedc2d-b61f-4052-b647-b0636d493cd1"
      },
      "execution_count": 106,
      "outputs": [
        {
          "output_type": "execute_result",
          "data": {
            "text/plain": [
              "array([0, 1, 2, 3, 4, 5, 6, 7, 8, 9])"
            ]
          },
          "metadata": {},
          "execution_count": 106
        }
      ]
    },
    {
      "cell_type": "code",
      "source": [
        "np.add(arr, 5) # add five to every element"
      ],
      "metadata": {
        "colab": {
          "base_uri": "https://localhost:8080/"
        },
        "id": "3N686rUYTBGx",
        "outputId": "c6e99d8a-0bca-49c2-f3d7-0e21d223863a"
      },
      "execution_count": 107,
      "outputs": [
        {
          "output_type": "execute_result",
          "data": {
            "text/plain": [
              "array([ 5,  6,  7,  8,  9, 10, 11, 12, 13, 14])"
            ]
          },
          "metadata": {},
          "execution_count": 107
        }
      ]
    },
    {
      "cell_type": "code",
      "source": [
        "arr + 5 # equivalent"
      ],
      "metadata": {
        "colab": {
          "base_uri": "https://localhost:8080/"
        },
        "id": "5O6OMC43TJga",
        "outputId": "6c80da1d-0c8f-48bb-c8fb-c5cdca830676"
      },
      "execution_count": 108,
      "outputs": [
        {
          "output_type": "execute_result",
          "data": {
            "text/plain": [
              "array([ 5,  6,  7,  8,  9, 10, 11, 12, 13, 14])"
            ]
          },
          "metadata": {},
          "execution_count": 108
        }
      ]
    },
    {
      "cell_type": "code",
      "source": [
        "arr2 = arr[::-1]\n",
        "arr2"
      ],
      "metadata": {
        "colab": {
          "base_uri": "https://localhost:8080/"
        },
        "id": "mFK86BGZTOUm",
        "outputId": "f4a83268-7a83-4cfb-b329-a0f4397529a4"
      },
      "execution_count": null,
      "outputs": [
        {
          "output_type": "execute_result",
          "data": {
            "text/plain": [
              "array([9, 8, 7, 6, 5, 4, 3, 2, 1, 0])"
            ]
          },
          "metadata": {},
          "execution_count": 138
        }
      ]
    },
    {
      "cell_type": "code",
      "source": [
        "arr * arr2 # multiply corresponding elements"
      ],
      "metadata": {
        "colab": {
          "base_uri": "https://localhost:8080/"
        },
        "id": "sLkmqbYwV1dl",
        "outputId": "3b2b9318-577a-49f3-b4dd-3a30b3cd78bd"
      },
      "execution_count": null,
      "outputs": [
        {
          "output_type": "execute_result",
          "data": {
            "text/plain": [
              "array([ 0,  8, 14, 18, 20, 20, 18, 14,  8,  0])"
            ]
          },
          "metadata": {},
          "execution_count": 139
        }
      ]
    },
    {
      "cell_type": "code",
      "source": [
        "arr.mean() # mean of arr"
      ],
      "metadata": {
        "colab": {
          "base_uri": "https://localhost:8080/"
        },
        "id": "B5jnF1v8W1cA",
        "outputId": "b65ca26a-c934-4260-b15d-be2e3b4431f0"
      },
      "execution_count": 112,
      "outputs": [
        {
          "output_type": "execute_result",
          "data": {
            "text/plain": [
              "4.5"
            ]
          },
          "metadata": {},
          "execution_count": 112
        }
      ]
    },
    {
      "cell_type": "code",
      "source": [
        "arr.std() # std, by default population std\n",
        "# arr.std(ddof=1) # std with bessels correction"
      ],
      "metadata": {
        "colab": {
          "base_uri": "https://localhost:8080/"
        },
        "id": "rFuXiNAVW4rp",
        "outputId": "f8becad7-0a6e-4ceb-9f1d-c04ddb648a64"
      },
      "execution_count": 116,
      "outputs": [
        {
          "output_type": "execute_result",
          "data": {
            "text/plain": [
              "2.8722813232690143"
            ]
          },
          "metadata": {},
          "execution_count": 116
        }
      ]
    },
    {
      "cell_type": "code",
      "source": [
        "arr = arr.reshape(5,2)\n",
        "arr"
      ],
      "metadata": {
        "colab": {
          "base_uri": "https://localhost:8080/"
        },
        "id": "HfI12gqpXF0H",
        "outputId": "0e11db2b-74f2-42ca-e40d-4cee178fef2f"
      },
      "execution_count": 117,
      "outputs": [
        {
          "output_type": "execute_result",
          "data": {
            "text/plain": [
              "array([[0, 1],\n",
              "       [2, 3],\n",
              "       [4, 5],\n",
              "       [6, 7],\n",
              "       [8, 9]])"
            ]
          },
          "metadata": {},
          "execution_count": 117
        }
      ]
    },
    {
      "cell_type": "code",
      "source": [
        "# arr.sum() # summs all elements\n",
        "# arr.sum(axis = 1) # sum over rows (across axis 1 which is columns)\n",
        "arr.sum(axis = 0) # sum over cols (across axis 0 which are rows)"
      ],
      "metadata": {
        "colab": {
          "base_uri": "https://localhost:8080/"
        },
        "id": "bPSRY6_nXJe9",
        "outputId": "1c8fb3e4-5956-4cfd-8fb3-fe813c0d565a"
      },
      "execution_count": 123,
      "outputs": [
        {
          "output_type": "execute_result",
          "data": {
            "text/plain": [
              "array([20, 25])"
            ]
          },
          "metadata": {},
          "execution_count": 123
        }
      ]
    },
    {
      "cell_type": "code",
      "source": [
        "arr.shape[1]"
      ],
      "metadata": {
        "colab": {
          "base_uri": "https://localhost:8080/"
        },
        "id": "Ou5HfDHApAu4",
        "outputId": "2281b862-ab90-4cf0-e4f4-5d2ba82f70f9"
      },
      "execution_count": 122,
      "outputs": [
        {
          "output_type": "execute_result",
          "data": {
            "text/plain": [
              "2"
            ]
          },
          "metadata": {},
          "execution_count": 122
        }
      ]
    },
    {
      "cell_type": "markdown",
      "source": [
        "<img src=\"https://cdn.githubraw.com/antndlcrx/Intro-to-Python-DPIR/main/images/W2/np_matrix_aggregation_row.png?raw=true:,  width=150\" alt=\"My Image\" width=475>\n",
        "\n",
        "[Img source: NumPy basics](https://numpy.org/doc/stable/user/basics.broadcasting.html)"
      ],
      "metadata": {
        "id": "0HPQ70RhwWiR"
      }
    },
    {
      "cell_type": "markdown",
      "source": [
        "#### **Broadcasting**\n",
        "\n",
        "Imagine you have two arrays of different shapes, and you want to perform an operation on them (like adding them together). To do that, you would need to bring the arrays to equal shapes.\n",
        "\n",
        "> **Broadcasting** is NumPy’s way of *stretching* or replicating arrays with smaller shapes so that they have compatible shapes for element-wise operations\n",
        "\n",
        "\n",
        "\n",
        "**Two dimensions are compatible when:**\n",
        "1. **they are equal, or**\n",
        "2. **one of them is 1**\n",
        "\n",
        "\n",
        "**Broadcasting works by comparing the shapes of the arrays from right to left** (i.e., starting with the last dimension and moving to the first).\n",
        "\n",
        "How broadcasting is done:\n",
        "\n",
        "1. **Align Dims**: If two arrays have a different number of dimensions, prepend `1`s to the shape of the smaller array until both arrays have the same number of dimensions.\n",
        "\n",
        "```\n",
        "a.shape = (3, 4, 5)\n",
        "b.shape = (4, 5) → prepend 1 to make (1, 4, 5)\n",
        "\n",
        "```\n",
        "\n",
        "2. **Check Compatibility**: for each respective dim, check if they are equal or if one is `1`. For any dimension where one array has size `1`, that array's size is stretched (replicated) to match the size of the other array in that dimension.\n",
        "\n",
        "```\n",
        "a.shape = (3, 4, 5)\n",
        "b.shape = (1, 4, 5) broadcast to (3, 4, 5)\n",
        "```\n",
        "\n",
        "3. if all other dimensions have mathching lenghts, the arrays now are of equal shape and we can perform element-wise operations on them.\n",
        "\n",
        "\n",
        "\n",
        "References:\n",
        "- [NumPy Broadcasting Explained (mCoding)](https://www.youtube.com/watch?v=oG1t3qlzq14&t=354s)\n",
        "- [NumPy Website on Broadcasting](https://numpy.org/doc/stable/user/basics.broadcasting.html)\n",
        "\n"
      ],
      "metadata": {
        "id": "minuCVKV9kpX"
      }
    },
    {
      "cell_type": "code",
      "source": [
        "a = np.array([1,2,3])\n",
        "b = 2\n",
        "print(a.shape)"
      ],
      "metadata": {
        "id": "dlP-7CWE-FFc",
        "colab": {
          "base_uri": "https://localhost:8080/"
        },
        "outputId": "b4346dca-5f12-4c26-91b7-6dd3d150a15d"
      },
      "execution_count": 124,
      "outputs": [
        {
          "output_type": "stream",
          "name": "stdout",
          "text": [
            "(3,)\n"
          ]
        }
      ]
    },
    {
      "cell_type": "code",
      "source": [
        "a * b"
      ],
      "metadata": {
        "colab": {
          "base_uri": "https://localhost:8080/"
        },
        "id": "UYMj6P7Sus-n",
        "outputId": "86c8c811-d628-479f-8f15-e0669da99800"
      },
      "execution_count": 125,
      "outputs": [
        {
          "output_type": "execute_result",
          "data": {
            "text/plain": [
              "array([2, 4, 6])"
            ]
          },
          "metadata": {},
          "execution_count": 125
        }
      ]
    },
    {
      "cell_type": "markdown",
      "source": [
        "<img src=\"https://cdn.githubraw.com/antndlcrx/Intro-to-Python-DPIR/main/images/W2/broadcasting_one.png?raw=true:,  width=150\" alt=\"My Image\" width=475>\n",
        "\n",
        "[Img source: NumPy broadcasting](https://numpy.org/doc/stable/user/basics.broadcasting.html)"
      ],
      "metadata": {
        "id": "E6rpO7icsSn5"
      }
    },
    {
      "cell_type": "code",
      "source": [
        "a = np.array([[0, 0, 0],\n",
        "            [10, 10, 10],\n",
        "            [20, 20, 20],\n",
        "            [30, 30, 30]])\n",
        "\n",
        "b = np.array([1, 2, 3])\n",
        "\n",
        "print(a.shape, b.shape)"
      ],
      "metadata": {
        "colab": {
          "base_uri": "https://localhost:8080/"
        },
        "id": "3xjrpwpdjwR9",
        "outputId": "1abbc5a5-9081-453d-dc86-cde558710346"
      },
      "execution_count": null,
      "outputs": [
        {
          "output_type": "stream",
          "name": "stdout",
          "text": [
            "(4, 3) (3,)\n"
          ]
        }
      ]
    },
    {
      "cell_type": "code",
      "source": [
        "a + b # shapes: (4, 3) + (1, 3)"
      ],
      "metadata": {
        "colab": {
          "base_uri": "https://localhost:8080/"
        },
        "id": "_BB5hTF6j96l",
        "outputId": "455f95c4-d89c-4790-a312-f28d501e9155"
      },
      "execution_count": 126,
      "outputs": [
        {
          "output_type": "execute_result",
          "data": {
            "text/plain": [
              "array([3, 4, 5])"
            ]
          },
          "metadata": {},
          "execution_count": 126
        }
      ]
    },
    {
      "cell_type": "markdown",
      "source": [
        "<img src=\"https://cdn.githubraw.com/antndlcrx/Intro-to-Python-DPIR/main/images/W2/broadcasting_two.png?raw=true:,  width=150\" alt=\"My Image\" width=475>\n",
        "\n",
        "[Img source: NumPy broadcasting](https://numpy.org/doc/stable/user/basics.broadcasting.html)"
      ],
      "metadata": {
        "id": "UhmOehmltBjE"
      }
    },
    {
      "cell_type": "code",
      "source": [
        "a = np.array([[0, 0, 0],\n",
        "            [10, 10, 10],\n",
        "            [20, 20, 20],\n",
        "            [30, 30, 30]])\n",
        "\n",
        "b = np.array([1, 2, 3, 4]) # added one more element!\n",
        "\n",
        "print(a.shape, b.shape)"
      ],
      "metadata": {
        "colab": {
          "base_uri": "https://localhost:8080/"
        },
        "id": "s0xkhKEmsjOG",
        "outputId": "abbff878-7e48-4d9e-dbbb-43e0bbbb4511"
      },
      "execution_count": 127,
      "outputs": [
        {
          "output_type": "stream",
          "name": "stdout",
          "text": [
            "(4, 3) (4,)\n"
          ]
        }
      ]
    },
    {
      "cell_type": "code",
      "source": [
        "a + b # shapes: (4, 3) + (1, 4) will give error bc 3 and 4 not match"
      ],
      "metadata": {
        "colab": {
          "base_uri": "https://localhost:8080/",
          "height": 141
        },
        "id": "m3ALG2tsvCxe",
        "outputId": "ea75d939-895c-48d7-e243-682b2f18168e"
      },
      "execution_count": 128,
      "outputs": [
        {
          "output_type": "error",
          "ename": "ValueError",
          "evalue": "operands could not be broadcast together with shapes (4,3) (4,) ",
          "traceback": [
            "\u001b[0;31m---------------------------------------------------------------------------\u001b[0m",
            "\u001b[0;31mValueError\u001b[0m                                Traceback (most recent call last)",
            "\u001b[0;32m<ipython-input-128-1824c0ba05fe>\u001b[0m in \u001b[0;36m<cell line: 0>\u001b[0;34m()\u001b[0m\n\u001b[0;32m----> 1\u001b[0;31m \u001b[0ma\u001b[0m \u001b[0;34m+\u001b[0m \u001b[0mb\u001b[0m \u001b[0;31m# shapes: (4, 3) + (1, 4) will give error bc 3 and 4 not match\u001b[0m\u001b[0;34m\u001b[0m\u001b[0;34m\u001b[0m\u001b[0m\n\u001b[0m",
            "\u001b[0;31mValueError\u001b[0m: operands could not be broadcast together with shapes (4,3) (4,) "
          ]
        }
      ]
    },
    {
      "cell_type": "markdown",
      "source": [
        "<img src=\"https://cdn.githubraw.com/antndlcrx/Intro-to-Python-DPIR/main/images/W2/broadcasting_three.png?raw=true:,  width=150\" alt=\"My Image\" width=475>\n",
        "\n",
        "[Img source: NumPy broadcasting](https://numpy.org/doc/stable/user/basics.broadcasting.html)"
      ],
      "metadata": {
        "id": "yskGjUwqu6Mp"
      }
    },
    {
      "cell_type": "code",
      "source": [
        "a = np.array([[0], [10], [20], [30]])\n",
        "\n",
        "b = np.array([1, 2, 3])\n",
        "\n",
        "print(a.shape, b.shape)"
      ],
      "metadata": {
        "colab": {
          "base_uri": "https://localhost:8080/"
        },
        "id": "Fwu1ZBnCvVU-",
        "outputId": "1953e679-eec9-4f68-d3ed-f12b9cf0d4b3"
      },
      "execution_count": 129,
      "outputs": [
        {
          "output_type": "stream",
          "name": "stdout",
          "text": [
            "(4, 1) (3,)\n"
          ]
        }
      ]
    },
    {
      "cell_type": "code",
      "source": [
        "a"
      ],
      "metadata": {
        "colab": {
          "base_uri": "https://localhost:8080/"
        },
        "id": "g02MHHLtlDyI",
        "outputId": "535b4d2e-394c-4e88-d52c-63a008e2629c"
      },
      "execution_count": 130,
      "outputs": [
        {
          "output_type": "execute_result",
          "data": {
            "text/plain": [
              "array([[ 0],\n",
              "       [10],\n",
              "       [20],\n",
              "       [30]])"
            ]
          },
          "metadata": {},
          "execution_count": 130
        }
      ]
    },
    {
      "cell_type": "code",
      "source": [
        "b"
      ],
      "metadata": {
        "colab": {
          "base_uri": "https://localhost:8080/"
        },
        "id": "0TIEpIR4k1sz",
        "outputId": "f8dae8db-ac32-4ad6-edd5-2662d578bcf2"
      },
      "execution_count": 131,
      "outputs": [
        {
          "output_type": "execute_result",
          "data": {
            "text/plain": [
              "array([1, 2, 3])"
            ]
          },
          "metadata": {},
          "execution_count": 131
        }
      ]
    },
    {
      "cell_type": "code",
      "source": [
        "a + b # shapes (4, 1) + (1, 3) compatible!"
      ],
      "metadata": {
        "colab": {
          "base_uri": "https://localhost:8080/"
        },
        "id": "5XS5vuVRvVp7",
        "outputId": "5468bff3-3b42-468d-8e19-419e446b19c1"
      },
      "execution_count": null,
      "outputs": [
        {
          "output_type": "execute_result",
          "data": {
            "text/plain": [
              "array([[ 1,  2,  3],\n",
              "       [11, 12, 13],\n",
              "       [21, 22, 23],\n",
              "       [31, 32, 33]])"
            ]
          },
          "metadata": {},
          "execution_count": 22
        }
      ]
    },
    {
      "cell_type": "markdown",
      "source": [
        "<img src=\"https://cdn.githubraw.com/antndlcrx/Intro-to-Python-DPIR/main/images/W2/broadcasting_four.png?raw=true:,  width=150\" alt=\"My Image\" width=475>\n",
        "\n",
        "[Img source: NumPy broadcasting](https://numpy.org/doc/stable/user/basics.broadcasting.html)"
      ],
      "metadata": {
        "id": "xjYINz7wvV_A"
      }
    },
    {
      "cell_type": "markdown",
      "source": [
        "#### Excersises"
      ],
      "metadata": {
        "id": "TOJ0wj88iGDM"
      }
    },
    {
      "cell_type": "code",
      "source": [
        "arr_2d = np.arange(27).reshape(3, -1)\n",
        "print(arr_2d)"
      ],
      "metadata": {
        "colab": {
          "base_uri": "https://localhost:8080/"
        },
        "id": "0DjXRErsiLOq",
        "outputId": "4ff7054d-928e-4bb4-ac1b-731fb3d2c188"
      },
      "execution_count": 132,
      "outputs": [
        {
          "output_type": "stream",
          "name": "stdout",
          "text": [
            "[[ 0  1  2  3  4  5  6  7  8]\n",
            " [ 9 10 11 12 13 14 15 16 17]\n",
            " [18 19 20 21 22 23 24 25 26]]\n"
          ]
        }
      ]
    },
    {
      "cell_type": "code",
      "source": [
        "# task 1: center each column (subtract the mean of column from every element)\n",
        "\n",
        "# task 2: normalise each row to sum to 1\n",
        "\n",
        "# task 3: replace each element with its distance from the array's overall mean"
      ],
      "metadata": {
        "id": "jVe5Uk74iGuj"
      },
      "execution_count": null,
      "outputs": []
    },
    {
      "cell_type": "markdown",
      "source": [
        "#### Simple Bivariate regression"
      ],
      "metadata": {
        "id": "3mQOW6lq1zXJ"
      }
    },
    {
      "cell_type": "code",
      "source": [
        "np.random.seed(42)\n",
        "x = np.random.uniform(2, 5, size=100)\n",
        "alpha = np.random.uniform(2, 10)\n",
        "beta = np.random.uniform(2, 10)\n",
        "print(alpha, beta)"
      ],
      "metadata": {
        "colab": {
          "base_uri": "https://localhost:8080/"
        },
        "id": "7r1TmXe4OZLR",
        "outputId": "055aa9eb-2317-47b4-b8a5-06035ae74342"
      },
      "execution_count": null,
      "outputs": [
        {
          "output_type": "stream",
          "name": "stdout",
          "text": [
            "2.251433485493874 7.091283290110243\n"
          ]
        }
      ]
    },
    {
      "cell_type": "code",
      "source": [
        "noise = np.random.normal(0, 2, size=100)\n",
        "y = alpha + x * beta + noise\n",
        "y"
      ],
      "metadata": {
        "colab": {
          "base_uri": "https://localhost:8080/"
        },
        "id": "VHtbyS7JO4iz",
        "outputId": "b18e234b-d55c-4da6-8872-c2b44e642e38"
      },
      "execution_count": null,
      "outputs": [
        {
          "output_type": "execute_result",
          "data": {
            "text/plain": [
              "array([24.96389406, 35.41395445, 31.59008479, 28.18376891, 18.57438769,\n",
              "       21.45180827, 18.38369308, 33.47508216, 31.02123033, 32.11202882,\n",
              "       18.49763574, 38.32697433, 32.48526981, 19.83090835, 21.79670433,\n",
              "       21.5564606 , 22.86460068, 27.83224438, 28.17846334, 21.44642229,\n",
              "       30.54466145, 18.99718621, 22.21367905, 26.42548062, 27.78719714,\n",
              "       34.76473486, 23.29278774, 27.41575399, 30.40084461, 16.80164566,\n",
              "       30.00715074, 19.80141856, 18.01188982, 37.81076258, 35.3402696 ,\n",
              "       37.81649844, 20.9022729 , 16.08348473, 33.3064925 , 27.38106353,\n",
              "       20.27846279, 28.22501033, 17.14108276, 33.98423704, 22.09085566,\n",
              "       29.17407626, 25.01553417, 27.20373431, 26.41363808, 19.72379432,\n",
              "       37.88666078, 31.79661027, 34.77631871, 35.9577972 , 29.64356759,\n",
              "       35.03192779, 17.37449966, 21.06740993, 14.49998994, 20.54010113,\n",
              "       23.26577393, 21.77974433, 34.68625255, 26.97422921, 24.12587789,\n",
              "       27.659358  , 19.39396846, 31.49475947, 17.982953  , 36.85156732,\n",
              "       33.50805647, 19.00698575, 17.59016978, 36.8474819 , 31.25405678,\n",
              "       32.74621256, 34.22217761, 17.20677393, 24.50813112, 18.92416584,\n",
              "       34.99088497, 28.14793127, 23.52249532, 18.78212745, 25.95207851,\n",
              "       25.27044289, 36.26189728, 28.46260687, 37.05307203, 26.8465135 ,\n",
              "       23.35783597, 29.99086602, 30.93938329, 27.17574161, 28.58764866,\n",
              "       25.88742341, 26.03627448, 25.83023108, 17.6582747 , 22.48160776])"
            ]
          },
          "metadata": {},
          "execution_count": 26
        }
      ]
    },
    {
      "cell_type": "code",
      "source": [
        "import matplotlib.pyplot as plt"
      ],
      "metadata": {
        "id": "U3e96lQxRo-X"
      },
      "execution_count": null,
      "outputs": []
    },
    {
      "cell_type": "code",
      "source": [
        "plt.scatter(x, y)"
      ],
      "metadata": {
        "colab": {
          "base_uri": "https://localhost:8080/",
          "height": 447
        },
        "id": "Bb1SilWXRujn",
        "outputId": "956a3d9f-b82e-41c8-ee9f-56a3c4f444f7"
      },
      "execution_count": null,
      "outputs": [
        {
          "output_type": "execute_result",
          "data": {
            "text/plain": [
              "<matplotlib.collections.PathCollection at 0x7db40ab83390>"
            ]
          },
          "metadata": {},
          "execution_count": 27
        },
        {
          "output_type": "display_data",
          "data": {
            "text/plain": [
              "<Figure size 640x480 with 1 Axes>"
            ],
            "image/png": "[encoded data removed]"
          },
          "metadata": {}
        }
      ]
    },
    {
      "cell_type": "code",
      "source": [
        "def biv_regression(x, y_true):\n",
        "    epochs = 50\n",
        "    alpha = np.random.uniform(0, 1)\n",
        "    beta = np.random.uniform(0, 1)\n",
        "\n",
        "    learning_rate = 5e-3\n",
        "    loss_history = []\n",
        "    for i in range(epochs):\n",
        "        y_pred = alpha + beta * x\n",
        "        errors = y_true - y_pred\n",
        "        mse = (errors ** 2).sum() / len(x)\n",
        "\n",
        "        da = -2 * errors.sum() / len(x)\n",
        "        db = -2 * (errors * x).sum() / len(x)\n",
        "\n",
        "        alpha -= learning_rate * da\n",
        "        beta -= learning_rate * db\n",
        "        loss_history.append(mse)\n",
        "        if i % 10 == 0:\n",
        "            print(f\"Epoch {i}: Loss = {mse}\")\n",
        "\n",
        "    return alpha, beta, y_pred, loss_history"
      ],
      "metadata": {
        "id": "lRQW7ZNCSbJ4"
      },
      "execution_count": null,
      "outputs": []
    },
    {
      "cell_type": "code",
      "source": [
        "alpha_pred, beta_pred, y_pred, losses = biv_regression(x, y)\n",
        "print(alpha_pred, beta_pred)"
      ],
      "metadata": {
        "id": "lG3ReELQUVCW",
        "colab": {
          "base_uri": "https://localhost:8080/"
        },
        "outputId": "87d35505-e333-4ffe-ad1b-510012075c8c"
      },
      "execution_count": null,
      "outputs": [
        {
          "output_type": "stream",
          "name": "stdout",
          "text": [
            "Epoch 0: Loss = 582.4812784911152\n",
            "Epoch 10: Loss = 35.60109260105304\n",
            "Epoch 20: Loss = 4.545854851465506\n",
            "Epoch 30: Loss = 2.781960585831743\n",
            "Epoch 40: Loss = 2.6813924979691786\n",
            "2.2871483254684404 7.12274021081983\n"
          ]
        }
      ]
    },
    {
      "cell_type": "code",
      "source": [
        "plt.figure(figsize=(10, 5))\n",
        "plt.plot(losses)\n",
        "plt.title('Loss History during Gradient Descent')\n",
        "plt.xlabel('Iteration')\n",
        "plt.ylabel('Sum of Squares')\n",
        "plt.tight_layout()\n",
        "plt.show()"
      ],
      "metadata": {
        "colab": {
          "base_uri": "https://localhost:8080/",
          "height": 507
        },
        "id": "w5CysihTzMsb",
        "outputId": "1154dad8-2b56-4eb6-ee3a-6c99b2a846ed"
      },
      "execution_count": null,
      "outputs": [
        {
          "output_type": "display_data",
          "data": {
            "text/plain": [
              "<Figure size 1000x500 with 1 Axes>"
            ],
            "image/png": "[encoded data removed]"
          },
          "metadata": {}
        }
      ]
    },
    {
      "cell_type": "markdown",
      "source": [
        "#### Multivariate regression"
      ],
      "metadata": {
        "id": "5LspUwIa137L"
      }
    },
    {
      "cell_type": "code",
      "source": [
        "np.random.seed(42)\n",
        "X = np.random.uniform(2, 5, size=1000).reshape(100, 10)\n",
        "alpha = np.random.uniform(-2, 2)\n",
        "betas = np.random.uniform(-5, 5, size=X.shape[1])\n",
        "print(f\"Alpha is {alpha} \\n Betas are {betas} \\n X is of shape{X.shape}\")"
      ],
      "metadata": {
        "colab": {
          "base_uri": "https://localhost:8080/"
        },
        "id": "_arzacML159O",
        "outputId": "03e6b098-7d71-40d8-c458-ac0df86b2570"
      },
      "execution_count": null,
      "outputs": [
        {
          "output_type": "stream",
          "name": "stdout",
          "text": [
            "Alpha is -1.2594682846455214 \n",
            " Betas are [ 0.41900947  3.72945836  2.32224886  3.06561148  1.58783367  1.92276565\n",
            "  3.49195652 -2.50331991 -0.10575036 -2.78790558] \n",
            " X is of shape(100, 10)\n"
          ]
        }
      ]
    },
    {
      "cell_type": "code",
      "source": [
        "noise = np.random.normal(0, 2, size=X.shape[0])\n",
        "y = alpha + X @ betas + noise\n",
        "y"
      ],
      "metadata": {
        "colab": {
          "base_uri": "https://localhost:8080/"
        },
        "id": "ALMc-g0V2U3b",
        "outputId": "54d4326e-3893-443f-b982-e40be16c266a"
      },
      "execution_count": null,
      "outputs": [
        {
          "output_type": "execute_result",
          "data": {
            "text/plain": [
              "array([34.00817573, 38.5194628 , 34.00717276, 40.27139452, 40.27312661,\n",
              "       50.41525353, 24.31539296, 47.542638  , 31.14389092, 48.49465844,\n",
              "       36.63628305, 49.92537103, 36.15151978, 26.51205155, 33.94105778,\n",
              "       27.74474423, 38.85411367, 36.76493552, 46.20549366, 41.53432641,\n",
              "       27.13909182, 32.48588168, 38.0206774 , 42.45992287, 40.31816873,\n",
              "       40.78600983, 45.50672173, 42.50778653, 29.97711014, 40.30355767,\n",
              "       42.85308125, 36.80357109, 42.95176342, 35.86860622, 37.94594681,\n",
              "       30.52639827, 44.24763585, 34.43187899, 40.32448619, 40.41766521,\n",
              "       49.86698651, 45.0109826 , 36.01737141, 31.43969308, 55.99493105,\n",
              "       37.17111687, 36.42110387, 43.80211746, 33.99828049, 33.56596165,\n",
              "       37.69991131, 36.39295996, 43.38454837, 58.96998686, 30.31625463,\n",
              "       42.14381063, 27.32611862, 38.42601908, 43.53189517, 47.21454287,\n",
              "       23.81433878, 35.91077226, 31.40730484, 42.59729623, 36.25940097,\n",
              "       38.02214379, 37.52411378, 35.24882037, 41.26746783, 31.77931242,\n",
              "       24.46827658, 40.20998929, 31.46118065, 41.4547244 , 32.03878954,\n",
              "       37.47889391, 32.91666301, 29.32383597, 32.35760747, 39.60838264,\n",
              "       42.61984634, 46.37722417, 25.9814204 , 33.41224905, 32.32360838,\n",
              "       38.09343704, 34.63620582, 32.21330458, 34.47246726, 41.85304276,\n",
              "       38.58382328, 33.18345086, 41.56806954, 33.93284908, 30.99747935,\n",
              "       43.34418567, 38.73796048, 43.49532463, 36.86450709, 46.98755597])"
            ]
          },
          "metadata": {},
          "execution_count": 142
        }
      ]
    },
    {
      "cell_type": "code",
      "source": [
        "len(X)"
      ],
      "metadata": {
        "colab": {
          "base_uri": "https://localhost:8080/"
        },
        "id": "6wNdzX9f62Ba",
        "outputId": "f72aab97-c389-4fc4-b4e0-56cac56dc0cc"
      },
      "execution_count": null,
      "outputs": [
        {
          "output_type": "execute_result",
          "data": {
            "text/plain": [
              "100"
            ]
          },
          "metadata": {},
          "execution_count": 91
        }
      ]
    },
    {
      "cell_type": "code",
      "source": [
        "X_b = np.hstack((np.ones((X.shape[0], 1)), X))  # [n_samples, n_features + 1]\n",
        "X_b.shape"
      ],
      "metadata": {
        "colab": {
          "base_uri": "https://localhost:8080/"
        },
        "id": "kzqUi9ubo2V5",
        "outputId": "4e2f716b-2160-4888-df65-315a8f7f06de"
      },
      "execution_count": null,
      "outputs": [
        {
          "output_type": "execute_result",
          "data": {
            "text/plain": [
              "(100, 11)"
            ]
          },
          "metadata": {},
          "execution_count": 136
        }
      ]
    },
    {
      "cell_type": "code",
      "source": [
        "def regression(X, y_true):\n",
        "    epochs = 500\n",
        "    X_b = np.hstack((np.ones((X.shape[0], 1)), X))  # [n_samples, n_features + 1]\n",
        "    betas = np.random.uniform(-1, 1, size=X_b.shape[1])\n",
        "\n",
        "    learning_rate = 0.008\n",
        "    loss_history = []\n",
        "    for i in range(epochs):\n",
        "        y_pred = X_b @ betas # ([100, 10] x [10,]) + [100,] = [100,]\n",
        "        errors = y_true - y_pred # [100,]\n",
        "        mse = (errors ** 2).mean() # [1,]\n",
        "\n",
        "        db = -2 * (X_b.T @ errors) / len(X_b) # ([10, 100] x [100,]).sum() / [100,]\n",
        "\n",
        "        betas -= learning_rate * db # [10,]\n",
        "        loss_history.append(mse)\n",
        "        if i % 10 == 0:\n",
        "            print(f\"Epoch {i}: Loss = {mse}\")\n",
        "\n",
        "    alpha = betas[0]\n",
        "    betas = betas[1:]\n",
        "\n",
        "    return alpha, betas, y_pred, loss_history"
      ],
      "metadata": {
        "id": "mbZCmmde5wmW"
      },
      "execution_count": null,
      "outputs": []
    },
    {
      "cell_type": "code",
      "source": [
        "alpha, betas, y_pred, losses = regression(X, y)\n",
        "print(alpha, \"\\n\", betas)"
      ],
      "metadata": {
        "colab": {
          "base_uri": "https://localhost:8080/"
        },
        "id": "I6qt0Ih47fjH",
        "outputId": "8f20afe8-0fae-4c8a-8f63-da8fb6c86d8b"
      },
      "execution_count": null,
      "outputs": [
        {
          "output_type": "stream",
          "name": "stdout",
          "text": [
            "Epoch 0: Loss = 1031.9206385287027\n",
            "Epoch 10: Loss = 447.6751159748462\n",
            "Epoch 20: Loss = 201.1791945812765\n",
            "Epoch 30: Loss = 96.0188131639492\n",
            "Epoch 40: Loss = 50.24394200225607\n",
            "Epoch 50: Loss = 29.610270891901436\n",
            "Epoch 60: Loss = 19.767875161524177\n",
            "Epoch 70: Loss = 14.67224311524251\n",
            "Epoch 80: Loss = 11.75303569934763\n",
            "Epoch 90: Loss = 9.89843745926716\n",
            "Epoch 100: Loss = 8.61300576895808\n",
            "Epoch 110: Loss = 7.6649057070377005\n",
            "Epoch 120: Loss = 6.937448820328219\n",
            "Epoch 130: Loss = 6.366083493982724\n",
            "Epoch 140: Loss = 5.911247227918092\n",
            "Epoch 150: Loss = 5.54636090856955\n",
            "Epoch 160: Loss = 5.252286019029862\n",
            "Epoch 170: Loss = 5.0145931047005465\n",
            "Epoch 180: Loss = 4.822092869481593\n",
            "Epoch 190: Loss = 4.6659639835033175\n",
            "Epoch 200: Loss = 4.5391843676860075\n",
            "Epoch 210: Loss = 4.436131700898513\n",
            "Epoch 220: Loss = 4.352287928511284\n",
            "Epoch 230: Loss = 4.284013428368535\n",
            "Epoch 240: Loss = 4.228370962536689\n",
            "Epoch 250: Loss = 4.18298680081206\n",
            "Epoch 260: Loss = 4.145940368429101\n",
            "Epoch 270: Loss = 4.115676150341868\n",
            "Epoch 280: Loss = 4.090933139985356\n",
            "Epoch 290: Loss = 4.070688207799388\n",
            "Epoch 300: Loss = 4.054110561458049\n",
            "Epoch 310: Loss = 4.040525071501145\n",
            "Epoch 320: Loss = 4.029382699423524\n",
            "Epoch 330: Loss = 4.020236626446099\n",
            "Epoch 340: Loss = 4.012722964961807\n",
            "Epoch 350: Loss = 4.006545158835735\n",
            "Epoch 360: Loss = 4.001461356565859\n",
            "Epoch 370: Loss = 3.997274182803116\n",
            "Epoch 380: Loss = 3.9938224465955603\n",
            "Epoch 390: Loss = 3.990974414941562\n",
            "Epoch 400: Loss = 3.9886223524856503\n",
            "Epoch 410: Loss = 3.9866780861391806\n",
            "Epoch 420: Loss = 3.9850693999510582\n",
            "Epoch 430: Loss = 3.983737102982618\n",
            "Epoch 440: Loss = 3.982632643073974\n",
            "Epoch 450: Loss = 3.981716163672486\n",
            "Epoch 460: Loss = 3.98095492048148\n",
            "Epoch 470: Loss = 3.980321990499862\n",
            "Epoch 480: Loss = 3.979795218798451\n",
            "Epoch 490: Loss = 3.9793563587070846\n",
            "-0.255507507814294 \n",
            " [ 0.05266458  3.83733589  2.35577983  3.04681182  1.32105398  1.68854626\n",
            "  3.65914032 -2.3565711  -0.13865421 -2.67308069]\n"
          ]
        }
      ]
    },
    {
      "cell_type": "code",
      "source": [
        "plt.figure(figsize=(10, 5))\n",
        "plt.plot(losses[50:])\n",
        "plt.title('Loss History during Gradient Descent')\n",
        "plt.xlabel('Iteration')\n",
        "plt.ylabel('Sum of Squares')\n",
        "plt.tight_layout()\n",
        "plt.show()"
      ],
      "metadata": {
        "colab": {
          "base_uri": "https://localhost:8080/",
          "height": 507
        },
        "id": "9V6rki70oSWl",
        "outputId": "518d3a26-e6f7-4901-e054-00d86c03daed"
      },
      "execution_count": null,
      "outputs": [
        {
          "output_type": "display_data",
          "data": {
            "text/plain": [
              "<Figure size 1000x500 with 1 Axes>"
            ],
            "image/png": "[encoded data removed]"
          },
          "metadata": {}
        }
      ]
    }
  ]
}
