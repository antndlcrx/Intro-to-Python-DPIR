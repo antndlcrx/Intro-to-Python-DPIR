{
  "nbformat": 4,
  "nbformat_minor": 0,
  "metadata": {
    "colab": {
      "provenance": [],
      "authorship_tag": "ABX9TyOdtk5Hwtorqaac9eID6xOt",
      "include_colab_link": true
    },
    "kernelspec": {
      "name": "python3",
      "display_name": "Python 3"
    },
    "language_info": {
      "name": "python"
    }
  },
  "cells": [
    {
      "cell_type": "markdown",
      "metadata": {
        "id": "view-in-github",
        "colab_type": "text"
      },
      "source": [
        "<a href=\"https://colab.research.google.com/github/antndlcrx/Intro-to-Python-DPIR/blob/main/Homework_W2.ipynb\" target=\"_parent\"><img src=\"https://colab.research.google.com/assets/colab-badge.svg\" alt=\"Open In Colab\"/></a>"
      ]
    },
    {
      "cell_type": "markdown",
      "source": [
        "Solve all easy NumPy problems from [numpy-100](https://github.com/rougier/numpy-100)!"
      ],
      "metadata": {
        "id": "feWq9k8zRmfq"
      }
    },
    {
      "cell_type": "code",
      "execution_count": 1,
      "metadata": {
        "colab": {
          "base_uri": "https://localhost:8080/"
        },
        "id": "P6u5FWPSEJoi",
        "outputId": "3e72dbf2-16f3-4483-ca20-f59e66e025b9"
      },
      "outputs": [
        {
          "output_type": "stream",
          "name": "stdout",
          "text": [
            "Cloning into 'numpy-100'...\n",
            "remote: Enumerating objects: 942, done.\u001b[K\n",
            "remote: Counting objects: 100% (17/17), done.\u001b[K\n",
            "remote: Compressing objects: 100% (14/14), done.\u001b[K\n",
            "remote: Total 942 (delta 9), reused 3 (delta 3), pack-reused 925 (from 3)\u001b[K\n",
            "Receiving objects: 100% (942/942), 483.43 KiB | 1.90 MiB/s, done.\n",
            "Resolving deltas: 100% (533/533), done.\n"
          ]
        }
      ],
      "source": [
        "# clone repository with 100 numpy problems\n",
        "!git clone https://github.com/rougier/numpy-100.git"
      ]
    },
    {
      "cell_type": "code",
      "source": [
        "!pip install mdutils # install necessary dependencies"
      ],
      "metadata": {
        "colab": {
          "base_uri": "https://localhost:8080/"
        },
        "id": "aHjNGgT2GGDt",
        "outputId": "b9a31b0a-afd6-4027-c25c-0f13f7e2ca98"
      },
      "execution_count": 2,
      "outputs": [
        {
          "output_type": "stream",
          "name": "stdout",
          "text": [
            "Collecting mdutils\n",
            "  Downloading mdutils-1.6.0.tar.gz (22 kB)\n",
            "  Installing build dependencies ... \u001b[?25l\u001b[?25hdone\n",
            "  Getting requirements to build wheel ... \u001b[?25l\u001b[?25hdone\n",
            "  Preparing metadata (pyproject.toml) ... \u001b[?25l\u001b[?25hdone\n",
            "Building wheels for collected packages: mdutils\n",
            "  Building wheel for mdutils (pyproject.toml) ... \u001b[?25l\u001b[?25hdone\n",
            "  Created wheel for mdutils: filename=mdutils-1.6.0-py3-none-any.whl size=20786 sha256=76cf6525c5212cc35d14602474b4adc9b67325ab467743c60e84254e4961a493\n",
            "  Stored in directory: /root/.cache/pip/wheels/2c/18/dc/d1968536d8f0c46c7180448ccc75f641fa2c3dea7bb02ea868\n",
            "Successfully built mdutils\n",
            "Installing collected packages: mdutils\n",
            "Successfully installed mdutils-1.6.0\n"
          ]
        }
      ]
    },
    {
      "cell_type": "code",
      "source": [
        "%cd numpy-100\n",
        "%run initialise.py"
      ],
      "metadata": {
        "colab": {
          "base_uri": "https://localhost:8080/"
        },
        "id": "usFr-XfBEclo",
        "outputId": "5fa06453-a298-43ec-a91f-aaddc90d093d"
      },
      "execution_count": 3,
      "outputs": [
        {
          "output_type": "stream",
          "name": "stdout",
          "text": [
            "/content/numpy-100\n"
          ]
        }
      ]
    },
    {
      "cell_type": "markdown",
      "source": [
        "`initialise.py` allows you to use `hint(<task number>)` and `answer(<task number>)` functions to help you out when solving the problems.  "
      ],
      "metadata": {
        "id": "1VEnYNFnR7i5"
      }
    },
    {
      "cell_type": "markdown",
      "source": [
        "to open the tasks, either run the code chunk below, or navigate to the `files` folder on your right, then to `numpy-100`, then double click on `100_Numpy_exercises.md`. The task file will open on the left side bar of your screen."
      ],
      "metadata": {
        "id": "9GlJwDrgTL7k"
      }
    },
    {
      "cell_type": "code",
      "source": [
        "file_path = '/content/numpy-100/100_Numpy_exercises.md'\n",
        "\n",
        "with open(file_path, 'r') as file:\n",
        "    content = file.read()\n",
        "\n",
        "print(content)"
      ],
      "metadata": {
        "id": "dF_NvC6JShU8"
      },
      "execution_count": null,
      "outputs": []
    },
    {
      "cell_type": "code",
      "source": [
        "### your code ###"
      ],
      "metadata": {
        "id": "9lgWl--PSOc0"
      },
      "execution_count": null,
      "outputs": []
    }
  ]
}